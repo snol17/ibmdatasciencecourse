{
 "cells": [
  {
   "cell_type": "markdown",
   "id": "09314cc0-1da1-4cfd-b454-a697d4c58e0b",
   "metadata": {},
   "source": [
    "# Data Science Tools and Ecosystem"
   ]
  },
  {
   "cell_type": "markdown",
   "id": "9106c9b9-5050-4489-8cb4-3ff509d0202e",
   "metadata": {},
   "source": [
    "In this notebook, Data Science Tools and Ecosystem are summarized"
   ]
  },
  {
   "cell_type": "markdown",
   "id": "967aedb9-e352-4188-90c6-5ec554420948",
   "metadata": {},
   "source": [
    "**Objectives:**\n",
    "\n",
    "- List popular languages in Data Science\n",
    "- List commonly used libraries in Data Science\n",
    "- List popular Data Science tools\n",
    "- List a few examples of using arithmetic expressions in Python"
   ]
  },
  {
   "cell_type": "markdown",
   "id": "9c6e3f1b-96ec-4c32-beb8-e4ccdce93a1d",
   "metadata": {},
   "source": [
    "Some of the popular languages that Data Scientists use are:\n",
    "\n",
    "    1. Python\n",
    "    2. R\n",
    "    3. SQL"
   ]
  },
  {
   "cell_type": "markdown",
   "id": "c255d424-cd65-4b6e-aaa5-e416b0185cd5",
   "metadata": {},
   "source": [
    "Some of the commonly used libraries used by Data Scientists include:\n",
    "    \n",
    "1. Pandas\n",
    "2. NumPy\n",
    "3. Matplotlib\n",
    "4. Seaborn"
   ]
  },
  {
   "cell_type": "markdown",
   "id": "7e4d7982-06d2-425b-8ed5-42a6a042dd2e",
   "metadata": {},
   "source": [
    "|Data Science Tools |\n",
    "|-------------------|\n",
    "| Apache Spark |\n",
    "| Tensor Flow |\n",
    "| Apache Hadoop |"
   ]
  },
  {
   "cell_type": "markdown",
   "id": "1f7c1cd3-8bc4-46d8-8f3f-d88f548f4fd4",
   "metadata": {},
   "source": [
    "### Below are a few examples of evaluating arithmetic expressions in Python"
   ]
  },
  {
   "cell_type": "code",
   "execution_count": 2,
   "id": "6874a9eb-3338-4d29-9ccd-9c8af80ae7fc",
   "metadata": {
    "tags": []
   },
   "outputs": [
    {
     "data": {
      "text/plain": [
       "17"
      ]
     },
     "execution_count": 2,
     "metadata": {},
     "output_type": "execute_result"
    }
   ],
   "source": [
    "# This a simple arithmetic expression to mutiply then add integers\n",
    "(3*4)+5"
   ]
  },
  {
   "cell_type": "code",
   "execution_count": 3,
   "id": "cb2cf7fd-656a-45ed-b439-90c08c5ced79",
   "metadata": {
    "tags": []
   },
   "outputs": [
    {
     "data": {
      "text/plain": [
       "3.3333333333333335"
      ]
     },
     "execution_count": 3,
     "metadata": {},
     "output_type": "execute_result"
    }
   ],
   "source": [
    "# This will convert 200 minutes to hours by diving by 60\n",
    "200/60"
   ]
  },
  {
   "cell_type": "markdown",
   "id": "bf9fba7d-4bae-4639-8826-0dc4c40e3daf",
   "metadata": {},
   "source": [
    "## Author\n",
    "Sarah Nolan"
   ]
  },
  {
   "cell_type": "code",
   "execution_count": null,
   "id": "35d56fae-9023-40f4-9371-c8c5f54c1ff0",
   "metadata": {},
   "outputs": [],
   "source": []
  }
 ],
 "metadata": {
  "kernelspec": {
   "display_name": "Python",
   "language": "python",
   "name": "conda-env-python-py"
  },
  "language_info": {
   "codemirror_mode": {
    "name": "ipython",
    "version": 3
   },
   "file_extension": ".py",
   "mimetype": "text/x-python",
   "name": "python",
   "nbconvert_exporter": "python",
   "pygments_lexer": "ipython3",
   "version": "3.7.12"
  }
 },
 "nbformat": 4,
 "nbformat_minor": 5
}
